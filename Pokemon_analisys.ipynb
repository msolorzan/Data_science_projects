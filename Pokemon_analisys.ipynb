{
  "nbformat": 4,
  "nbformat_minor": 0,
  "metadata": {
    "colab": {
      "provenance": [],
      "mount_file_id": "1IdIxrDAouGTPF6C59I3nCfvY0O_K7xIe",
      "authorship_tag": "ABX9TyPXoq6i4w/M0PIVfkI+oWst",
      "include_colab_link": true
    },
    "kernelspec": {
      "name": "python3",
      "display_name": "Python 3"
    },
    "language_info": {
      "name": "python"
    }
  },
  "cells": [
    {
      "cell_type": "markdown",
      "metadata": {
        "id": "view-in-github",
        "colab_type": "text"
      },
      "source": [
        "<a href=\"https://colab.research.google.com/github/msolorzan/Data_science_projects/blob/main/Pokemon_analisys.ipynb\" target=\"_parent\"><img src=\"https://colab.research.google.com/assets/colab-badge.svg\" alt=\"Open In Colab\"/></a>"
      ]
    },
    {
      "cell_type": "code",
      "execution_count": null,
      "metadata": {
        "id": "wzDfCon3bVNm"
      },
      "outputs": [],
      "source": [
        "# Check if bs4 and urllib libraries are available\n",
        "!pip list"
      ]
    },
    {
      "cell_type": "code",
      "source": [
        "# Import libraries to connect to page\n",
        "from bs4 import BeautifulSoup\n",
        "from urllib.request import urlopen, Request\n",
        "\n",
        "url = 'https://pokemondb.net/pokedex/all'\n",
        "\n",
        "request_site = Request(url, headers = {'User-Agent' : 'Mozilla/5.0 (X11; Linux x86_64) AppleWebKit/537.36 (KHTML, like Gecko)'})\n",
        "\n",
        "pokemon_url = urlopen(request_site)\n",
        "\n",
        "bf_pk = BeautifulSoup(pokemon_url, 'html.parser')"
      ],
      "metadata": {
        "id": "LRtVqWg7bc4g"
      },
      "execution_count": 115,
      "outputs": []
    },
    {
      "cell_type": "code",
      "source": [
        "number, name, Type, Total, stats = [], [], [], [], []"
      ],
      "metadata": {
        "id": "ABc4rH6ypV5w"
      },
      "execution_count": 134,
      "outputs": []
    },
    {
      "cell_type": "code",
      "source": [
        "for values in bf_pk.find('tbody').find_all({'tr' : 'class'}):\n",
        "  if values.find('small', {'class' : 'text-muted'}):\n",
        "    name.append(values.find('small', {'class' : 'text-muted'}).get_text() + ' ' + values.find('a', {'class' : 'ent-name'}).get_text())\n",
        "  else:\n",
        "    name.append(values.find('a', {'class' : 'ent-name'}).get_text())\n",
        "  number.append(values.find('span', {'class' : 'infocard-cell-data'}).get_text())\n",
        "  Total.append(values.find('td', {'class' : 'cell-num cell-total'}).get_text())\n",
        "  Type.append(values.find('td', {'class' : 'cell-icon'}).get_text())\n",
        "  for i in range(2, 8):\n",
        "    stats.append(values.find_all('td', {'class' : 'cell-num'})[i].get_text())"
      ],
      "metadata": {
        "id": "Ate7vz6Eds5i"
      },
      "execution_count": 135,
      "outputs": []
    },
    {
      "cell_type": "code",
      "source": [
        "import numpy as np\n",
        "\n",
        "stats = np.reshape(np.array(stats), (1075, 6)).astype('int16')"
      ],
      "metadata": {
        "id": "H4HRI0vSaQW7"
      },
      "execution_count": 136,
      "outputs": []
    },
    {
      "cell_type": "code",
      "source": [
        "pokedata = np.array([number, name, Type, Total]).T"
      ],
      "metadata": {
        "id": "6q9znh5ScW0Y"
      },
      "execution_count": 137,
      "outputs": []
    },
    {
      "cell_type": "code",
      "source": [
        "stats, pokedata = pd.DataFrame(stats, columns = ['HP', 'Attack', 'Defense', 'Sp. Atk', 'Sp. Def', 'Speed']), pd.DataFrame(pokedata, columns = ['number', 'Name', 'Type', 'Total'])"
      ],
      "metadata": {
        "id": "jIQgl6OWf-in"
      },
      "execution_count": 138,
      "outputs": []
    },
    {
      "cell_type": "code",
      "source": [
        "pokedf = pd.concat([pokedata, stats], axis = 1)"
      ],
      "metadata": {
        "id": "zi6DLtW7a3Ta"
      },
      "execution_count": 139,
      "outputs": []
    },
    {
      "cell_type": "code",
      "source": [
        "pokedf.info()"
      ],
      "metadata": {
        "colab": {
          "base_uri": "https://localhost:8080/"
        },
        "id": "lLlWYq3VlFiF",
        "outputId": "bcaa0c63-c7d5-48ff-e987-1ea4bbd7632b"
      },
      "execution_count": 141,
      "outputs": [
        {
          "output_type": "stream",
          "name": "stdout",
          "text": [
            "<class 'pandas.core.frame.DataFrame'>\n",
            "RangeIndex: 1075 entries, 0 to 1074\n",
            "Data columns (total 10 columns):\n",
            " #   Column   Non-Null Count  Dtype \n",
            "---  ------   --------------  ----- \n",
            " 0   number   1075 non-null   object\n",
            " 1   Name     1075 non-null   object\n",
            " 2   Type     1075 non-null   object\n",
            " 3   Total    1075 non-null   object\n",
            " 4   HP       1075 non-null   int16 \n",
            " 5   Attack   1075 non-null   int16 \n",
            " 6   Defense  1075 non-null   int16 \n",
            " 7   Sp. Atk  1075 non-null   int16 \n",
            " 8   Sp. Def  1075 non-null   int16 \n",
            " 9   Speed    1075 non-null   int16 \n",
            "dtypes: int16(6), object(4)\n",
            "memory usage: 46.3+ KB\n"
          ]
        }
      ]
    },
    {
      "cell_type": "code",
      "source": [
        "pokedf['number'] = pokedf['number'].astype(np.int16)\n",
        "pokedf['Total'] = pokedf['Total'].astype(np.int16)"
      ],
      "metadata": {
        "id": "1PpT_Mwqnwuc"
      },
      "execution_count": 145,
      "outputs": []
    },
    {
      "cell_type": "code",
      "source": [
        "pokedf.info()"
      ],
      "metadata": {
        "colab": {
          "base_uri": "https://localhost:8080/"
        },
        "id": "ZOCVXTu4oXp9",
        "outputId": "aba65f40-0ac1-4ead-b040-d160569b5020"
      },
      "execution_count": 146,
      "outputs": [
        {
          "output_type": "stream",
          "name": "stdout",
          "text": [
            "<class 'pandas.core.frame.DataFrame'>\n",
            "RangeIndex: 1075 entries, 0 to 1074\n",
            "Data columns (total 10 columns):\n",
            " #   Column   Non-Null Count  Dtype \n",
            "---  ------   --------------  ----- \n",
            " 0   number   1075 non-null   int16 \n",
            " 1   Name     1075 non-null   object\n",
            " 2   Type     1075 non-null   object\n",
            " 3   Total    1075 non-null   int16 \n",
            " 4   HP       1075 non-null   int16 \n",
            " 5   Attack   1075 non-null   int16 \n",
            " 6   Defense  1075 non-null   int16 \n",
            " 7   Sp. Atk  1075 non-null   int16 \n",
            " 8   Sp. Def  1075 non-null   int16 \n",
            " 9   Speed    1075 non-null   int16 \n",
            "dtypes: int16(8), object(2)\n",
            "memory usage: 33.7+ KB\n"
          ]
        }
      ]
    },
    {
      "cell_type": "code",
      "source": [
        "pokedf.to_csv('/content/drive/MyDrive/Data_science/pokemon/Pokemon_dataframe.csv')"
      ],
      "metadata": {
        "id": "LJSpHV9ojTop"
      },
      "execution_count": 148,
      "outputs": []
    },
    {
      "cell_type": "code",
      "source": [
        "pokedf.describe()"
      ],
      "metadata": {
        "colab": {
          "base_uri": "https://localhost:8080/",
          "height": 300
        },
        "id": "g2bF94OConf_",
        "outputId": "e3b54db2-cc80-45dc-a094-9719fc553b08"
      },
      "execution_count": 149,
      "outputs": [
        {
          "output_type": "execute_result",
          "data": {
            "text/plain": [
              "            number        Total           HP       Attack      Defense  \\\n",
              "count  1075.000000  1075.000000  1075.000000  1075.000000  1075.000000   \n",
              "mean    444.312558   440.697674    70.275349    80.847442    74.760930   \n",
              "std     264.180041   121.841330    26.642689    32.408889    31.161763   \n",
              "min       1.000000   175.000000     1.000000     5.000000     5.000000   \n",
              "25%     213.500000   330.000000    50.000000    56.000000    50.500000   \n",
              "50%     442.000000   460.000000    68.000000    80.000000    70.000000   \n",
              "75%     675.500000   516.000000    83.500000   100.000000    90.000000   \n",
              "max     905.000000  1125.000000   255.000000   190.000000   250.000000   \n",
              "\n",
              "           Sp. Atk      Sp. Def        Speed  \n",
              "count  1075.000000  1075.000000  1075.000000  \n",
              "mean     73.296744    72.382326    69.134884  \n",
              "std      32.862140    28.005817    30.220442  \n",
              "min      10.000000    20.000000     5.000000  \n",
              "25%      50.000000    50.000000    45.000000  \n",
              "50%      65.000000    70.000000    65.000000  \n",
              "75%      95.000000    90.000000    90.000000  \n",
              "max     194.000000   250.000000   200.000000  "
            ],
            "text/html": [
              "\n",
              "  <div id=\"df-b3c8ae90-a6bc-4f34-98fd-21bf6e60ae21\">\n",
              "    <div class=\"colab-df-container\">\n",
              "      <div>\n",
              "<style scoped>\n",
              "    .dataframe tbody tr th:only-of-type {\n",
              "        vertical-align: middle;\n",
              "    }\n",
              "\n",
              "    .dataframe tbody tr th {\n",
              "        vertical-align: top;\n",
              "    }\n",
              "\n",
              "    .dataframe thead th {\n",
              "        text-align: right;\n",
              "    }\n",
              "</style>\n",
              "<table border=\"1\" class=\"dataframe\">\n",
              "  <thead>\n",
              "    <tr style=\"text-align: right;\">\n",
              "      <th></th>\n",
              "      <th>number</th>\n",
              "      <th>Total</th>\n",
              "      <th>HP</th>\n",
              "      <th>Attack</th>\n",
              "      <th>Defense</th>\n",
              "      <th>Sp. Atk</th>\n",
              "      <th>Sp. Def</th>\n",
              "      <th>Speed</th>\n",
              "    </tr>\n",
              "  </thead>\n",
              "  <tbody>\n",
              "    <tr>\n",
              "      <th>count</th>\n",
              "      <td>1075.000000</td>\n",
              "      <td>1075.000000</td>\n",
              "      <td>1075.000000</td>\n",
              "      <td>1075.000000</td>\n",
              "      <td>1075.000000</td>\n",
              "      <td>1075.000000</td>\n",
              "      <td>1075.000000</td>\n",
              "      <td>1075.000000</td>\n",
              "    </tr>\n",
              "    <tr>\n",
              "      <th>mean</th>\n",
              "      <td>444.312558</td>\n",
              "      <td>440.697674</td>\n",
              "      <td>70.275349</td>\n",
              "      <td>80.847442</td>\n",
              "      <td>74.760930</td>\n",
              "      <td>73.296744</td>\n",
              "      <td>72.382326</td>\n",
              "      <td>69.134884</td>\n",
              "    </tr>\n",
              "    <tr>\n",
              "      <th>std</th>\n",
              "      <td>264.180041</td>\n",
              "      <td>121.841330</td>\n",
              "      <td>26.642689</td>\n",
              "      <td>32.408889</td>\n",
              "      <td>31.161763</td>\n",
              "      <td>32.862140</td>\n",
              "      <td>28.005817</td>\n",
              "      <td>30.220442</td>\n",
              "    </tr>\n",
              "    <tr>\n",
              "      <th>min</th>\n",
              "      <td>1.000000</td>\n",
              "      <td>175.000000</td>\n",
              "      <td>1.000000</td>\n",
              "      <td>5.000000</td>\n",
              "      <td>5.000000</td>\n",
              "      <td>10.000000</td>\n",
              "      <td>20.000000</td>\n",
              "      <td>5.000000</td>\n",
              "    </tr>\n",
              "    <tr>\n",
              "      <th>25%</th>\n",
              "      <td>213.500000</td>\n",
              "      <td>330.000000</td>\n",
              "      <td>50.000000</td>\n",
              "      <td>56.000000</td>\n",
              "      <td>50.500000</td>\n",
              "      <td>50.000000</td>\n",
              "      <td>50.000000</td>\n",
              "      <td>45.000000</td>\n",
              "    </tr>\n",
              "    <tr>\n",
              "      <th>50%</th>\n",
              "      <td>442.000000</td>\n",
              "      <td>460.000000</td>\n",
              "      <td>68.000000</td>\n",
              "      <td>80.000000</td>\n",
              "      <td>70.000000</td>\n",
              "      <td>65.000000</td>\n",
              "      <td>70.000000</td>\n",
              "      <td>65.000000</td>\n",
              "    </tr>\n",
              "    <tr>\n",
              "      <th>75%</th>\n",
              "      <td>675.500000</td>\n",
              "      <td>516.000000</td>\n",
              "      <td>83.500000</td>\n",
              "      <td>100.000000</td>\n",
              "      <td>90.000000</td>\n",
              "      <td>95.000000</td>\n",
              "      <td>90.000000</td>\n",
              "      <td>90.000000</td>\n",
              "    </tr>\n",
              "    <tr>\n",
              "      <th>max</th>\n",
              "      <td>905.000000</td>\n",
              "      <td>1125.000000</td>\n",
              "      <td>255.000000</td>\n",
              "      <td>190.000000</td>\n",
              "      <td>250.000000</td>\n",
              "      <td>194.000000</td>\n",
              "      <td>250.000000</td>\n",
              "      <td>200.000000</td>\n",
              "    </tr>\n",
              "  </tbody>\n",
              "</table>\n",
              "</div>\n",
              "      <button class=\"colab-df-convert\" onclick=\"convertToInteractive('df-b3c8ae90-a6bc-4f34-98fd-21bf6e60ae21')\"\n",
              "              title=\"Convert this dataframe to an interactive table.\"\n",
              "              style=\"display:none;\">\n",
              "        \n",
              "  <svg xmlns=\"http://www.w3.org/2000/svg\" height=\"24px\"viewBox=\"0 0 24 24\"\n",
              "       width=\"24px\">\n",
              "    <path d=\"M0 0h24v24H0V0z\" fill=\"none\"/>\n",
              "    <path d=\"M18.56 5.44l.94 2.06.94-2.06 2.06-.94-2.06-.94-.94-2.06-.94 2.06-2.06.94zm-11 1L8.5 8.5l.94-2.06 2.06-.94-2.06-.94L8.5 2.5l-.94 2.06-2.06.94zm10 10l.94 2.06.94-2.06 2.06-.94-2.06-.94-.94-2.06-.94 2.06-2.06.94z\"/><path d=\"M17.41 7.96l-1.37-1.37c-.4-.4-.92-.59-1.43-.59-.52 0-1.04.2-1.43.59L10.3 9.45l-7.72 7.72c-.78.78-.78 2.05 0 2.83L4 21.41c.39.39.9.59 1.41.59.51 0 1.02-.2 1.41-.59l7.78-7.78 2.81-2.81c.8-.78.8-2.07 0-2.86zM5.41 20L4 18.59l7.72-7.72 1.47 1.35L5.41 20z\"/>\n",
              "  </svg>\n",
              "      </button>\n",
              "      \n",
              "  <style>\n",
              "    .colab-df-container {\n",
              "      display:flex;\n",
              "      flex-wrap:wrap;\n",
              "      gap: 12px;\n",
              "    }\n",
              "\n",
              "    .colab-df-convert {\n",
              "      background-color: #E8F0FE;\n",
              "      border: none;\n",
              "      border-radius: 50%;\n",
              "      cursor: pointer;\n",
              "      display: none;\n",
              "      fill: #1967D2;\n",
              "      height: 32px;\n",
              "      padding: 0 0 0 0;\n",
              "      width: 32px;\n",
              "    }\n",
              "\n",
              "    .colab-df-convert:hover {\n",
              "      background-color: #E2EBFA;\n",
              "      box-shadow: 0px 1px 2px rgba(60, 64, 67, 0.3), 0px 1px 3px 1px rgba(60, 64, 67, 0.15);\n",
              "      fill: #174EA6;\n",
              "    }\n",
              "\n",
              "    [theme=dark] .colab-df-convert {\n",
              "      background-color: #3B4455;\n",
              "      fill: #D2E3FC;\n",
              "    }\n",
              "\n",
              "    [theme=dark] .colab-df-convert:hover {\n",
              "      background-color: #434B5C;\n",
              "      box-shadow: 0px 1px 3px 1px rgba(0, 0, 0, 0.15);\n",
              "      filter: drop-shadow(0px 1px 2px rgba(0, 0, 0, 0.3));\n",
              "      fill: #FFFFFF;\n",
              "    }\n",
              "  </style>\n",
              "\n",
              "      <script>\n",
              "        const buttonEl =\n",
              "          document.querySelector('#df-b3c8ae90-a6bc-4f34-98fd-21bf6e60ae21 button.colab-df-convert');\n",
              "        buttonEl.style.display =\n",
              "          google.colab.kernel.accessAllowed ? 'block' : 'none';\n",
              "\n",
              "        async function convertToInteractive(key) {\n",
              "          const element = document.querySelector('#df-b3c8ae90-a6bc-4f34-98fd-21bf6e60ae21');\n",
              "          const dataTable =\n",
              "            await google.colab.kernel.invokeFunction('convertToInteractive',\n",
              "                                                     [key], {});\n",
              "          if (!dataTable) return;\n",
              "\n",
              "          const docLinkHtml = 'Like what you see? Visit the ' +\n",
              "            '<a target=\"_blank\" href=https://colab.research.google.com/notebooks/data_table.ipynb>data table notebook</a>'\n",
              "            + ' to learn more about interactive tables.';\n",
              "          element.innerHTML = '';\n",
              "          dataTable['output_type'] = 'display_data';\n",
              "          await google.colab.output.renderOutput(dataTable, element);\n",
              "          const docLink = document.createElement('div');\n",
              "          docLink.innerHTML = docLinkHtml;\n",
              "          element.appendChild(docLink);\n",
              "        }\n",
              "      </script>\n",
              "    </div>\n",
              "  </div>\n",
              "  "
            ]
          },
          "metadata": {},
          "execution_count": 149
        }
      ]
    },
    {
      "cell_type": "code",
      "source": [
        "pokedf.corr()"
      ],
      "metadata": {
        "colab": {
          "base_uri": "https://localhost:8080/",
          "height": 300
        },
        "id": "dTIffxoSo09H",
        "outputId": "111de652-b3a4-4812-8e33-2b8bbece4d52"
      },
      "execution_count": 156,
      "outputs": [
        {
          "output_type": "execute_result",
          "data": {
            "text/plain": [
              "           number     Total        HP    Attack   Defense   Sp. Atk   Sp. Def  \\\n",
              "number   1.000000  0.146881  0.131492  0.140124  0.105580  0.100552  0.088430   \n",
              "Total    0.146881  1.000000  0.652702  0.734412  0.628757  0.731994  0.719294   \n",
              "HP       0.131492  0.652702  1.000000  0.450904  0.304683  0.370663  0.392077   \n",
              "Attack   0.140124  0.734412  0.450904  1.000000  0.460452  0.365253  0.268800   \n",
              "Defense  0.105580  0.628757  0.304683  0.460452  1.000000  0.221837  0.538613   \n",
              "Sp. Atk  0.100552  0.731994  0.370663  0.365253  0.221837  1.000000  0.513960   \n",
              "Sp. Def  0.088430  0.719294  0.392077  0.268800  0.538613  0.513960  1.000000   \n",
              "Speed    0.025830  0.557821  0.185784  0.369953  0.001066  0.440277  0.225097   \n",
              "\n",
              "            Speed  \n",
              "number   0.025830  \n",
              "Total    0.557821  \n",
              "HP       0.185784  \n",
              "Attack   0.369953  \n",
              "Defense  0.001066  \n",
              "Sp. Atk  0.440277  \n",
              "Sp. Def  0.225097  \n",
              "Speed    1.000000  "
            ],
            "text/html": [
              "\n",
              "  <div id=\"df-2d68ca57-4c7e-4c97-850c-34924ebf956d\">\n",
              "    <div class=\"colab-df-container\">\n",
              "      <div>\n",
              "<style scoped>\n",
              "    .dataframe tbody tr th:only-of-type {\n",
              "        vertical-align: middle;\n",
              "    }\n",
              "\n",
              "    .dataframe tbody tr th {\n",
              "        vertical-align: top;\n",
              "    }\n",
              "\n",
              "    .dataframe thead th {\n",
              "        text-align: right;\n",
              "    }\n",
              "</style>\n",
              "<table border=\"1\" class=\"dataframe\">\n",
              "  <thead>\n",
              "    <tr style=\"text-align: right;\">\n",
              "      <th></th>\n",
              "      <th>number</th>\n",
              "      <th>Total</th>\n",
              "      <th>HP</th>\n",
              "      <th>Attack</th>\n",
              "      <th>Defense</th>\n",
              "      <th>Sp. Atk</th>\n",
              "      <th>Sp. Def</th>\n",
              "      <th>Speed</th>\n",
              "    </tr>\n",
              "  </thead>\n",
              "  <tbody>\n",
              "    <tr>\n",
              "      <th>number</th>\n",
              "      <td>1.000000</td>\n",
              "      <td>0.146881</td>\n",
              "      <td>0.131492</td>\n",
              "      <td>0.140124</td>\n",
              "      <td>0.105580</td>\n",
              "      <td>0.100552</td>\n",
              "      <td>0.088430</td>\n",
              "      <td>0.025830</td>\n",
              "    </tr>\n",
              "    <tr>\n",
              "      <th>Total</th>\n",
              "      <td>0.146881</td>\n",
              "      <td>1.000000</td>\n",
              "      <td>0.652702</td>\n",
              "      <td>0.734412</td>\n",
              "      <td>0.628757</td>\n",
              "      <td>0.731994</td>\n",
              "      <td>0.719294</td>\n",
              "      <td>0.557821</td>\n",
              "    </tr>\n",
              "    <tr>\n",
              "      <th>HP</th>\n",
              "      <td>0.131492</td>\n",
              "      <td>0.652702</td>\n",
              "      <td>1.000000</td>\n",
              "      <td>0.450904</td>\n",
              "      <td>0.304683</td>\n",
              "      <td>0.370663</td>\n",
              "      <td>0.392077</td>\n",
              "      <td>0.185784</td>\n",
              "    </tr>\n",
              "    <tr>\n",
              "      <th>Attack</th>\n",
              "      <td>0.140124</td>\n",
              "      <td>0.734412</td>\n",
              "      <td>0.450904</td>\n",
              "      <td>1.000000</td>\n",
              "      <td>0.460452</td>\n",
              "      <td>0.365253</td>\n",
              "      <td>0.268800</td>\n",
              "      <td>0.369953</td>\n",
              "    </tr>\n",
              "    <tr>\n",
              "      <th>Defense</th>\n",
              "      <td>0.105580</td>\n",
              "      <td>0.628757</td>\n",
              "      <td>0.304683</td>\n",
              "      <td>0.460452</td>\n",
              "      <td>1.000000</td>\n",
              "      <td>0.221837</td>\n",
              "      <td>0.538613</td>\n",
              "      <td>0.001066</td>\n",
              "    </tr>\n",
              "    <tr>\n",
              "      <th>Sp. Atk</th>\n",
              "      <td>0.100552</td>\n",
              "      <td>0.731994</td>\n",
              "      <td>0.370663</td>\n",
              "      <td>0.365253</td>\n",
              "      <td>0.221837</td>\n",
              "      <td>1.000000</td>\n",
              "      <td>0.513960</td>\n",
              "      <td>0.440277</td>\n",
              "    </tr>\n",
              "    <tr>\n",
              "      <th>Sp. Def</th>\n",
              "      <td>0.088430</td>\n",
              "      <td>0.719294</td>\n",
              "      <td>0.392077</td>\n",
              "      <td>0.268800</td>\n",
              "      <td>0.538613</td>\n",
              "      <td>0.513960</td>\n",
              "      <td>1.000000</td>\n",
              "      <td>0.225097</td>\n",
              "    </tr>\n",
              "    <tr>\n",
              "      <th>Speed</th>\n",
              "      <td>0.025830</td>\n",
              "      <td>0.557821</td>\n",
              "      <td>0.185784</td>\n",
              "      <td>0.369953</td>\n",
              "      <td>0.001066</td>\n",
              "      <td>0.440277</td>\n",
              "      <td>0.225097</td>\n",
              "      <td>1.000000</td>\n",
              "    </tr>\n",
              "  </tbody>\n",
              "</table>\n",
              "</div>\n",
              "      <button class=\"colab-df-convert\" onclick=\"convertToInteractive('df-2d68ca57-4c7e-4c97-850c-34924ebf956d')\"\n",
              "              title=\"Convert this dataframe to an interactive table.\"\n",
              "              style=\"display:none;\">\n",
              "        \n",
              "  <svg xmlns=\"http://www.w3.org/2000/svg\" height=\"24px\"viewBox=\"0 0 24 24\"\n",
              "       width=\"24px\">\n",
              "    <path d=\"M0 0h24v24H0V0z\" fill=\"none\"/>\n",
              "    <path d=\"M18.56 5.44l.94 2.06.94-2.06 2.06-.94-2.06-.94-.94-2.06-.94 2.06-2.06.94zm-11 1L8.5 8.5l.94-2.06 2.06-.94-2.06-.94L8.5 2.5l-.94 2.06-2.06.94zm10 10l.94 2.06.94-2.06 2.06-.94-2.06-.94-.94-2.06-.94 2.06-2.06.94z\"/><path d=\"M17.41 7.96l-1.37-1.37c-.4-.4-.92-.59-1.43-.59-.52 0-1.04.2-1.43.59L10.3 9.45l-7.72 7.72c-.78.78-.78 2.05 0 2.83L4 21.41c.39.39.9.59 1.41.59.51 0 1.02-.2 1.41-.59l7.78-7.78 2.81-2.81c.8-.78.8-2.07 0-2.86zM5.41 20L4 18.59l7.72-7.72 1.47 1.35L5.41 20z\"/>\n",
              "  </svg>\n",
              "      </button>\n",
              "      \n",
              "  <style>\n",
              "    .colab-df-container {\n",
              "      display:flex;\n",
              "      flex-wrap:wrap;\n",
              "      gap: 12px;\n",
              "    }\n",
              "\n",
              "    .colab-df-convert {\n",
              "      background-color: #E8F0FE;\n",
              "      border: none;\n",
              "      border-radius: 50%;\n",
              "      cursor: pointer;\n",
              "      display: none;\n",
              "      fill: #1967D2;\n",
              "      height: 32px;\n",
              "      padding: 0 0 0 0;\n",
              "      width: 32px;\n",
              "    }\n",
              "\n",
              "    .colab-df-convert:hover {\n",
              "      background-color: #E2EBFA;\n",
              "      box-shadow: 0px 1px 2px rgba(60, 64, 67, 0.3), 0px 1px 3px 1px rgba(60, 64, 67, 0.15);\n",
              "      fill: #174EA6;\n",
              "    }\n",
              "\n",
              "    [theme=dark] .colab-df-convert {\n",
              "      background-color: #3B4455;\n",
              "      fill: #D2E3FC;\n",
              "    }\n",
              "\n",
              "    [theme=dark] .colab-df-convert:hover {\n",
              "      background-color: #434B5C;\n",
              "      box-shadow: 0px 1px 3px 1px rgba(0, 0, 0, 0.15);\n",
              "      filter: drop-shadow(0px 1px 2px rgba(0, 0, 0, 0.3));\n",
              "      fill: #FFFFFF;\n",
              "    }\n",
              "  </style>\n",
              "\n",
              "      <script>\n",
              "        const buttonEl =\n",
              "          document.querySelector('#df-2d68ca57-4c7e-4c97-850c-34924ebf956d button.colab-df-convert');\n",
              "        buttonEl.style.display =\n",
              "          google.colab.kernel.accessAllowed ? 'block' : 'none';\n",
              "\n",
              "        async function convertToInteractive(key) {\n",
              "          const element = document.querySelector('#df-2d68ca57-4c7e-4c97-850c-34924ebf956d');\n",
              "          const dataTable =\n",
              "            await google.colab.kernel.invokeFunction('convertToInteractive',\n",
              "                                                     [key], {});\n",
              "          if (!dataTable) return;\n",
              "\n",
              "          const docLinkHtml = 'Like what you see? Visit the ' +\n",
              "            '<a target=\"_blank\" href=https://colab.research.google.com/notebooks/data_table.ipynb>data table notebook</a>'\n",
              "            + ' to learn more about interactive tables.';\n",
              "          element.innerHTML = '';\n",
              "          dataTable['output_type'] = 'display_data';\n",
              "          await google.colab.output.renderOutput(dataTable, element);\n",
              "          const docLink = document.createElement('div');\n",
              "          docLink.innerHTML = docLinkHtml;\n",
              "          element.appendChild(docLink);\n",
              "        }\n",
              "      </script>\n",
              "    </div>\n",
              "  </div>\n",
              "  "
            ]
          },
          "metadata": {},
          "execution_count": 156
        }
      ]
    },
    {
      "cell_type": "code",
      "source": [
        "correlations = np.array(pokedf.corr())[1:,1:]"
      ],
      "metadata": {
        "id": "J5c3R1lkpffz"
      },
      "execution_count": 157,
      "outputs": []
    },
    {
      "cell_type": "code",
      "source": [
        "correlations"
      ],
      "metadata": {
        "colab": {
          "base_uri": "https://localhost:8080/"
        },
        "id": "nDEJxno2qHc2",
        "outputId": "05510a9f-58b8-4eb6-ef73-f3f0af162b4e"
      },
      "execution_count": 158,
      "outputs": [
        {
          "output_type": "execute_result",
          "data": {
            "text/plain": [
              "array([[1.        , 0.65270244, 0.73441212, 0.62875712, 0.73199391,\n",
              "        0.71929443, 0.55782134],\n",
              "       [0.65270244, 1.        , 0.4509036 , 0.30468295, 0.37066335,\n",
              "        0.39207688, 0.18578413],\n",
              "       [0.73441212, 0.4509036 , 1.        , 0.46045161, 0.36525269,\n",
              "        0.26879976, 0.36995323],\n",
              "       [0.62875712, 0.30468295, 0.46045161, 1.        , 0.22183718,\n",
              "        0.53861304, 0.00106551],\n",
              "       [0.73199391, 0.37066335, 0.36525269, 0.22183718, 1.        ,\n",
              "        0.51395969, 0.44027721],\n",
              "       [0.71929443, 0.39207688, 0.26879976, 0.53861304, 0.51395969,\n",
              "        1.        , 0.2250974 ],\n",
              "       [0.55782134, 0.18578413, 0.36995323, 0.00106551, 0.44027721,\n",
              "        0.2250974 , 1.        ]])"
            ]
          },
          "metadata": {},
          "execution_count": 158
        }
      ]
    },
    {
      "cell_type": "code",
      "source": [],
      "metadata": {
        "id": "gDw_SL9NqIs1"
      },
      "execution_count": null,
      "outputs": []
    }
  ]
}